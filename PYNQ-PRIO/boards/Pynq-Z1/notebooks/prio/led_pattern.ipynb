{
 "cells": [
  {
   "cell_type": "markdown",
   "metadata": {},
   "source": [
    "# LED Pattern Demo\n",
    "This Demo shows how to download a partial bitstream."
   ]
  },
  {
   "cell_type": "markdown",
   "metadata": {},
   "source": [
    "## Download the static bitstream\n",
    "We first need to download the static or full bitstream before any partial bitstreams can be downloaded. Note that if the bitstream is not in the same directory as the notebook then the full path needs to be provided."
   ]
  },
  {
   "cell_type": "code",
   "execution_count": 1,
   "metadata": {},
   "outputs": [
    {
     "data": {
      "application/javascript": [
       "\n",
       "require(['notebook/js/codecell'], function(codecell) {\n",
       "  codecell.CodeCell.options_default.highlight_modes[\n",
       "      'magic_text/x-csrc'] = {'reg':[/^%%microblaze/]};\n",
       "  Jupyter.notebook.events.one('kernel_ready.Kernel', function(){\n",
       "      Jupyter.notebook.get_cells().map(function(cell){\n",
       "          if (cell.cell_type == 'code'){ cell.auto_highlight(); } }) ;\n",
       "  });\n",
       "});\n"
      ]
     },
     "metadata": {},
     "output_type": "display_data"
    }
   ],
   "source": [
    "from pynq import Overlay\n",
    "\n",
    "FULL_BITSTREAM_PATH = \"/usr/local/lib/python3.6/dist-packages/prio/\"\n",
    "PARTIAL_BITSTREAM_PATH = \"/usr/local/lib/python3.6/dist-packages/prio/partial/\"\n",
    "\n",
    "overlay = Overlay(FULL_BITSTREAM_PATH + \"prio.bit\")"
   ]
  },
  {
   "cell_type": "markdown",
   "metadata": {},
   "source": [
    "## Demo: LED Pattern\n",
    "In the following cells we will download a basic binary pattern to each Partial Region. The pattern causes every other IO pin to be high.\n",
    "\n",
    "The pins for each Partial Region are as follows:  \n",
    "pr_0: Arduino Pins 0-7  \n",
    "pr_1: Arduino Pins 8-13  \n",
    "pr_2: Arduino Pins 26-33  \n",
    "pr_3: Arduino Pins 34-41  \n",
    "pr_4: PMOD A pins  \n",
    "pr_5: PMOD B pins  \n",
    "\n",
    "** Hardware Setup:** Use an LED or a voltmeter to test each pin and see the pattern.\n",
    "\n",
    "Notice that as with the full bitstream, the full path to the partial bitstream must be provided when is located outside of the current notebook's directory. Also note that the set_partial_region function and download function must always be called together."
   ]
  },
  {
   "cell_type": "code",
   "execution_count": 2,
   "metadata": {},
   "outputs": [],
   "source": [
    "overlay.pr_download(\"pr_0\", PARTIAL_BITSTREAM_PATH + \"pr_0_led_pattern.bit\")"
   ]
  },
  {
   "cell_type": "code",
   "execution_count": 3,
   "metadata": {},
   "outputs": [],
   "source": [
    "overlay.pr_download(\"pr_1\", PARTIAL_BITSTREAM_PATH + \"pr_1_led_pattern.bit\")"
   ]
  },
  {
   "cell_type": "code",
   "execution_count": 4,
   "metadata": {},
   "outputs": [],
   "source": [
    "overlay.pr_download(\"pr_2\", PARTIAL_BITSTREAM_PATH + \"pr_2_led_pattern.bit\")"
   ]
  },
  {
   "cell_type": "code",
   "execution_count": 5,
   "metadata": {},
   "outputs": [],
   "source": [
    "overlay.pr_download(\"pr_3\", PARTIAL_BITSTREAM_PATH + \"pr_3_led_pattern.bit\")"
   ]
  },
  {
   "cell_type": "code",
   "execution_count": 6,
   "metadata": {},
   "outputs": [],
   "source": [
    "overlay.pr_download(\"pr_4\", PARTIAL_BITSTREAM_PATH + \"pr_4_led_pattern.bit\")"
   ]
  },
  {
   "cell_type": "code",
   "execution_count": 7,
   "metadata": {},
   "outputs": [],
   "source": [
    "overlay.pr_download(\"pr_5\", PARTIAL_BITSTREAM_PATH + \"pr_5_led_pattern.bit\")"
   ]
  }
 ],
 "metadata": {
  "kernelspec": {
   "display_name": "Python 3",
   "language": "python",
   "name": "python3"
  },
  "language_info": {
   "codemirror_mode": {
    "name": "ipython",
    "version": 3
   },
   "file_extension": ".py",
   "mimetype": "text/x-python",
   "name": "python",
   "nbconvert_exporter": "python",
   "pygments_lexer": "ipython3",
   "version": "3.6.5"
  }
 },
 "nbformat": 4,
 "nbformat_minor": 2
}
