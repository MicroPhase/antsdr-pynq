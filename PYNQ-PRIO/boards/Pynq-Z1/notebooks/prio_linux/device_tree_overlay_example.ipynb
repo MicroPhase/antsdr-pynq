{
 "cells": [
  {
   "cell_type": "markdown",
   "metadata": {},
   "source": [
    "# PRIO Linux\n",
    "PRIO-Linux is a PYNQ Project that uses the Partially Reconfigurable IO (PRIO) project, combined with device tree overlays, to provide a Linux Driver framework for interacting with reconfigurable IO modules. The following demo showcases how to use the pynq framework to insert and remove device tree overlays. Click [here](https://www.raspberrypi.org/documentation/configuration/device-tree.md) for more information on device tree overlays."
   ]
  },
  {
   "cell_type": "markdown",
   "metadata": {},
   "source": [
    "### Step One:\n",
    "Download the bitstream"
   ]
  },
  {
   "cell_type": "code",
   "execution_count": 1,
   "metadata": {},
   "outputs": [
    {
     "data": {
      "application/javascript": [
       "\n",
       "require(['notebook/js/codecell'], function(codecell) {\n",
       "  codecell.CodeCell.options_default.highlight_modes[\n",
       "      'magic_text/x-csrc'] = {'reg':[/^%%microblaze/]};\n",
       "  Jupyter.notebook.events.one('kernel_ready.Kernel', function(){\n",
       "      Jupyter.notebook.get_cells().map(function(cell){\n",
       "          if (cell.cell_type == 'code'){ cell.auto_highlight(); } }) ;\n",
       "  });\n",
       "});\n"
      ]
     },
     "metadata": {},
     "output_type": "display_data"
    }
   ],
   "source": [
    "from pynq import Overlay\n",
    "\n",
    "overlay = Overlay(\"base.bit\")"
   ]
  },
  {
   "cell_type": "markdown",
   "metadata": {},
   "source": [
    "### Step Two: \n",
    "Insert the device tree overlay"
   ]
  },
  {
   "cell_type": "code",
   "execution_count": 2,
   "metadata": {},
   "outputs": [],
   "source": [
    "DTBO_PATH = \"/usr/local/lib/python3.6/dist-packages/prio_linux/dtbo/\"\n",
    "\n",
    "overlay.download(dtbo = DTBO_PATH + 'gpio_base_leds.dtbo')"
   ]
  },
  {
   "cell_type": "markdown",
   "metadata": {},
   "source": [
    "### Step Three:\n",
    "Initialize the LED's using pynq's wrapper around the gpio driver's sysfs interface"
   ]
  },
  {
   "cell_type": "code",
   "execution_count": 3,
   "metadata": {},
   "outputs": [],
   "source": [
    "from pynq import GPIO\n",
    "from time import sleep\n",
    "\n",
    "leds = []\n",
    "name = \"/amba/gpio_base_leds\"\n",
    "for x in range(GPIO.get_gpio_npins(name)):\n",
    "    leds.append(GPIO(GPIO.get_gpio_pin(x, name), 'out'))"
   ]
  },
  {
   "cell_type": "markdown",
   "metadata": {},
   "source": [
    "### Step Four: \n",
    "Run the demo: Blink the LED's 5  times"
   ]
  },
  {
   "cell_type": "code",
   "execution_count": 4,
   "metadata": {},
   "outputs": [],
   "source": [
    "for _ in range(5):\n",
    "    # turn the led's on\n",
    "    for led in leds:\n",
    "        led.write(1)\n",
    "    sleep(.5)\n",
    "    \n",
    "    # turn the led's off\n",
    "    for led in leds:\n",
    "        led.write(0)\n",
    "    sleep(.5)"
   ]
  },
  {
   "cell_type": "markdown",
   "metadata": {},
   "source": [
    "### Step Five:\n",
    "Release the LED's"
   ]
  },
  {
   "cell_type": "code",
   "execution_count": 5,
   "metadata": {},
   "outputs": [],
   "source": [
    "for led in leds:\n",
    "    led.release()"
   ]
  }
 ],
 "metadata": {
  "kernelspec": {
   "display_name": "Python 3",
   "language": "python",
   "name": "python3"
  },
  "language_info": {
   "codemirror_mode": {
    "name": "ipython",
    "version": 3
   },
   "file_extension": ".py",
   "mimetype": "text/x-python",
   "name": "python",
   "nbconvert_exporter": "python",
   "pygments_lexer": "ipython3",
   "version": "3.6.5"
  }
 },
 "nbformat": 4,
 "nbformat_minor": 2
}
