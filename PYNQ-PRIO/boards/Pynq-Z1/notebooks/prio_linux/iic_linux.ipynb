{
 "cells": [
  {
   "cell_type": "markdown",
   "metadata": {},
   "source": [
    "# PRIO Linux: IIC Demo\n",
    "This demo illustrates how to use device tree overlay's and partial reconfiguration to interact with the grove haptic motor via IIC."
   ]
  },
  {
   "cell_type": "markdown",
   "metadata": {},
   "source": [
    "### Step One:\n",
    "\n",
    "Download the static bitstream"
   ]
  },
  {
   "cell_type": "code",
   "execution_count": 1,
   "metadata": {},
   "outputs": [
    {
     "data": {
      "application/javascript": [
       "\n",
       "require(['notebook/js/codecell'], function(codecell) {\n",
       "  codecell.CodeCell.options_default.highlight_modes[\n",
       "      'magic_text/x-csrc'] = {'reg':[/^%%microblaze/]};\n",
       "  Jupyter.notebook.events.one('kernel_ready.Kernel', function(){\n",
       "      Jupyter.notebook.get_cells().map(function(cell){\n",
       "          if (cell.cell_type == 'code'){ cell.auto_highlight(); } }) ;\n",
       "  });\n",
       "});\n"
      ]
     },
     "metadata": {},
     "output_type": "display_data"
    }
   ],
   "source": [
    "from prio_linux import PrIoOverlay\n",
    "\n",
    "FULL_BITSTREAM_PATH = \"/usr/local/lib/python3.6/dist-packages/prio_linux/\"\n",
    "PARTIAL_BITSTREAM_PATH = \"/usr/local/lib/python3.6/dist-packages/prio_linux/partial/\"\n",
    "DTBO_PATH = \"/usr/local/lib/python3.6/dist-packages/prio_linux/dtbo/\"\n",
    "\n",
    "overlay = PrIoOverlay(FULL_BITSTREAM_PATH + \"prio_linux.bit\")"
   ]
  },
  {
   "cell_type": "markdown",
   "metadata": {},
   "source": [
    "### Step Two:\n",
    "Download the partial bitstream and insert the dtbo files  \n",
    "**Note:** Currently the IIC linux driver does not support being removed. This means that you must restart your board between each run of this "
   ]
  },
  {
   "cell_type": "code",
   "execution_count": 2,
   "metadata": {},
   "outputs": [],
   "source": [
    "overlay.pr_download(\"pr_2\", PARTIAL_BITSTREAM_PATH + \"pr_2_iic.bit\", DTBO_PATH + \"pr_2_iic.dtbo\")"
   ]
  },
  {
   "cell_type": "markdown",
   "metadata": {},
   "source": [
    "### Step Three: \n",
    "Define the Haptic class. This class is a convenient way to set up and communicate with the haptic motor. I2C linux driver \n",
    "\n",
    "Note that this class requires the use of the smbus2 libary, which is a python wrapper around the I2C linux driver associated with the dtbo file inserted in step 2. If you have not already installed this library then run \"pip3 install smbus2\" in the terminal."
   ]
  },
  {
   "cell_type": "code",
   "execution_count": 3,
   "metadata": {},
   "outputs": [],
   "source": [
    "from smbus2 import SMBus\n",
    "        \n",
    "class Haptic:\n",
    "    STATUS_Reg          = 0x00\n",
    "    MODE_Reg            = 0x01\n",
    "    RTP_INPUT_Reg       = 0x02\n",
    "    LIB_SEL_Reg         = 0x03\n",
    "    WAV_SEQ1_Reg        = 0x04\n",
    "    WAV_SEQ2_Reg        = 0x05\n",
    "    WAV_SEQ3_Reg        = 0x06\n",
    "    WAV_SEQ4_Reg        = 0x07\n",
    "    WAV_SEQ5_Reg        = 0x08\n",
    "    WAV_SEQ6_Reg        = 0x09\n",
    "    WAV_SEQ7_Reg        = 0x0A\n",
    "    WAV_SEQ8_Reg        = 0x0B\n",
    "    GO_Reg              = 0x0C\n",
    "    ODT_OFFSET_Reg      = 0x0D\n",
    "    SPT_Reg             = 0x0E\n",
    "    SNT_Reg             = 0x0F\n",
    "    BRT_Reg             = 0x10\n",
    "    ATV_CON_Reg         = 0x11\n",
    "    ATV_MIN_IN_Reg      = 0x12\n",
    "    ATV_MAX_IN_Reg      = 0x13\n",
    "    ATV_MIN_OUT_Reg     = 0x14\n",
    "    ATV_MAX_OUT_Reg     = 0x15\n",
    "    RATED_VOLTAGE_Reg   = 0x16\n",
    "    OD_CLAMP_Reg        = 0x17\n",
    "    A_CAL_COMP_Reg      = 0x18\n",
    "    A_CAL_BEMF_Reg      = 0x19\n",
    "    FB_CON_Reg          = 0x1A\n",
    "    CONTRL1_Reg         = 0x1B\n",
    "    CONTRL2_Reg         = 0x1C\n",
    "    CONTRL3_Reg         = 0x1D\n",
    "    CONTRL4_Reg         = 0x1E\n",
    "    VBAT_MON_Reg        = 0x21\n",
    "    LRA_RESON_Reg       = 0x22\n",
    "    \n",
    "    def __init__(self, bus_num, haptic_address):\n",
    "        \n",
    "        # set the bus number and address of the haptic motor\n",
    "        self.bus = SMBus(bus_num)\n",
    "        self.address = haptic_address\n",
    "        \n",
    "        # Enter standby mode\n",
    "        self.bus.write_byte_data(self.address, self.MODE_Reg, 0x40)\n",
    "        time.sleep(0.25)\n",
    "\n",
    "        self.bus.write_byte_data(self.address, self.RATED_VOLTAGE_Reg, 0x50)\n",
    "\n",
    "        # Set overdrive voltage \n",
    "        self.bus.write_byte_data(self.address, self.OD_CLAMP_Reg, 0x89)\n",
    "\n",
    "        # Setup feedback control and control registers\n",
    "        self.bus.write_byte_data(self.address, self.FB_CON_Reg, 0xB6)\n",
    "        self.bus.write_byte_data(self.address, self.CONTRL1_Reg, 0x13)\n",
    "        self.bus.write_byte_data(self.address, self.CONTRL2_Reg, 0xF5)\n",
    "        self.bus.write_byte_data(self.address, self.CONTRL3_Reg, 0x80)\n",
    "\n",
    "        # Select the LRA Library \n",
    "        self.bus.write_byte_data(self.address, self.LIB_SEL_Reg, 0x06)\n",
    "\n",
    "        # Put the DRV2605 device in active mode\n",
    "        self.bus.write_byte_data(self.address, self.MODE_Reg, 0x00)\n",
    "\n",
    "    def Play_Waveform(self, ucEffect):\n",
    "        # Exit standby mode and use internal trigger \n",
    "        self.bus.write_byte_data(self.address, self.MODE_Reg, 0x00)\n",
    "\n",
    "        self.bus.write_byte_data(self.address, self.WAV_SEQ1_Reg, ucEffect)\n",
    "        self.bus.write_byte_data(self.address, self.WAV_SEQ2_Reg, 0x00)\n",
    "\n",
    "        self.bus.write_byte_data(self.address, self.GO_Reg, 0x01)\n",
    "        \n",
    "    def close(self):\n",
    "        self.bus.close()"
   ]
  },
  {
   "cell_type": "markdown",
   "metadata": {},
   "source": [
    "### Step Four: \n",
    "\n",
    "Use I2C to play waveforms on the haptic motor\n",
    "\n",
    "**Hardware setup:** For this demo you should connect the wires to the Arduino Pins. Connect the **`red`** wire (**`VCC`**) to the **VCC** pin, the **`black`** wire (**`GND`**) to the **GND** pin, the **`white`** wire (**`SDA`**) to **IO27**, and the **`yellow`** wire (**`SCL`**) to **IO26**.\n",
    "\n",
    "\n",
    "<img src=\"images/i2c_hw_setup.JPG\" align=\"center\"/>\n",
    "\n",
    "**Note:** We need to initilize the haptic motor with the i2cbus number and the bus address for the haptic motor. The i2cbus number is assigned by the linux driver when the device tree overlay is parsed and the driver run. Since there are no other i2c devices the number will be 0 i2cdetect -l can be run on the command line to see all the currenlty instantiated i2c busses and their ID numbers. The default address for the haptic motor is 0x5A."
   ]
  },
  {
   "cell_type": "code",
   "execution_count": 6,
   "metadata": {},
   "outputs": [
    {
     "name": "stdout",
     "output_type": "stream",
     "text": [
      "Effect No: 50\n",
      "Effect No: 51\n",
      "Effect No: 52\n",
      "Effect No: 53\n",
      "Effect No: 54\n",
      "Effect No: 55\n",
      "Effect No: 56\n",
      "Effect No: 57\n",
      "Effect No: 58\n",
      "Effect No: 59\n",
      "Effect No: 60\n",
      "Effect No: 61\n",
      "Effect No: 62\n",
      "Effect No: 63\n",
      "Effect No: 64\n",
      "Effect No: 65\n",
      "Effect No: 66\n",
      "Effect No: 67\n",
      "Effect No: 68\n",
      "Effect No: 69\n"
     ]
    }
   ],
   "source": [
    "import time\n",
    "\n",
    "haptic = Haptic(0, 0x5A)\n",
    "\n",
    "for i in range(50, 70):\n",
    "    print(\"Effect No: \" + str(i))\n",
    "\n",
    "    haptic.Play_Waveform(i)\n",
    "    time.sleep(2)"
   ]
  },
  {
   "cell_type": "code",
   "execution_count": null,
   "metadata": {},
   "outputs": [],
   "source": []
  }
 ],
 "metadata": {
  "kernelspec": {
   "display_name": "Python 3",
   "language": "python",
   "name": "python3"
  },
  "language_info": {
   "codemirror_mode": {
    "name": "ipython",
    "version": 3
   },
   "file_extension": ".py",
   "mimetype": "text/x-python",
   "name": "python",
   "nbconvert_exporter": "python",
   "pygments_lexer": "ipython3",
   "version": "3.6.5"
  }
 },
 "nbformat": 4,
 "nbformat_minor": 4
}
