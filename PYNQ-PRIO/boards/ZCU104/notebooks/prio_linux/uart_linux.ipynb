{
 "cells": [
  {
   "cell_type": "markdown",
   "metadata": {},
   "source": [
    "# PRIO Linux: UART Demo\n",
    "This demo illustrates how to use device tree overlay's and partial reconfiguration to send messages over uart."
   ]
  },
  {
   "cell_type": "markdown",
   "metadata": {},
   "source": [
    "### Step One: \n",
    "Download the static bitstream"
   ]
  },
  {
   "cell_type": "code",
   "execution_count": 1,
   "metadata": {},
   "outputs": [
    {
     "data": {
      "application/javascript": [
       "\n",
       "require(['notebook/js/codecell'], function(codecell) {\n",
       "  codecell.CodeCell.options_default.highlight_modes[\n",
       "      'magic_text/x-csrc'] = {'reg':[/^%%microblaze/]};\n",
       "  Jupyter.notebook.events.one('kernel_ready.Kernel', function(){\n",
       "      Jupyter.notebook.get_cells().map(function(cell){\n",
       "          if (cell.cell_type == 'code'){ cell.auto_highlight(); } }) ;\n",
       "  });\n",
       "});\n"
      ]
     },
     "metadata": {},
     "output_type": "display_data"
    }
   ],
   "source": [
    "from prio_linux import PrIoOverlay\n",
    "\n",
    "FULL_BITSTREAM_PATH = \"/usr/local/lib/python3.6/dist-packages/prio_linux/\"\n",
    "PARTIAL_BITSTREAM_PATH = \"/usr/local/lib/python3.6/dist-packages/prio_linux/partial/\"\n",
    "DTBO_PATH = \"/usr/local/lib/python3.6/dist-packages/prio_linux/dtbo/\"\n",
    "\n",
    "overlay = PrIoOverlay(FULL_BITSTREAM_PATH + \"prio_linux.bit\")"
   ]
  },
  {
   "cell_type": "markdown",
   "metadata": {},
   "source": [
    "### Step Two: \n",
    "Download the partial bitstream and insert the dtbo files"
   ]
  },
  {
   "cell_type": "code",
   "execution_count": 2,
   "metadata": {},
   "outputs": [],
   "source": [
    "overlay.pr_download(\"pr_1\", PARTIAL_BITSTREAM_PATH + \"pr_1_uart.bit\", DTBO_PATH + \"pr_1_uart.dtbo\")\n",
    "\n",
    "overlay.pr_download(\"pr_3\", PARTIAL_BITSTREAM_PATH + \"pr_3_uart.bit\", DTBO_PATH + \"pr_3_uart.dtbo\")"
   ]
  },
  {
   "cell_type": "markdown",
   "metadata": {},
   "source": [
    "### Step Three: \n",
    "Send Bidirectional UART Messages\n",
    "\n",
    "**Hardware setup:** For this demo you should connect a wire between the top right pin of **`PMOD 1`** (uart1 RX) and the second most right bottom pin of **`PMOD 1`** (uart3 TX), and a second wire between the bottom right pin of **`PMOD 1`** (uart1 TX) and the second most right top **`PMOD 1`** (uart3 RX). (The two wires should criss-cross)\n",
    "\n",
    "<img src=\"images/uart_hw_setup.JPG\" align=\"center\"/>\n",
    "\n",
    "\n",
    "Note that this demo requires the use of the pyserial libary. If you have not already installed this library then run \"pip3 install pyserial\" in the terminal."
   ]
  },
  {
   "cell_type": "code",
   "execution_count": 3,
   "metadata": {},
   "outputs": [
    {
     "name": "stdout",
     "output_type": "stream",
     "text": [
      "Success! Message Recieved: Sending Data from uart1 to uart3\n",
      "Success! Message Recieved: Sending Data from uart3 to uart1\n"
     ]
    }
   ],
   "source": [
    "import serial, time\n",
    "\n",
    "# initilize the uart in PR region 1\n",
    "uart1 = serial.Serial()\n",
    "uart1.port = \"/dev/ttyUL0\"\n",
    "uart1.timeout = 1\n",
    "uart1.open()\n",
    "uart1.flushInput()\n",
    "uart1.flushOutput()\n",
    "\n",
    "# initilize the uart in PR region 3\n",
    "uart3 = serial.Serial()\n",
    "uart3.port = \"/dev/ttyUL1\"\n",
    "uart3.timeout = 1\n",
    "uart3.open()\n",
    "uart3.flushInput()\n",
    "uart3.flushOutput()\n",
    "\n",
    "# Send a message from uart1 to uart3\n",
    "message = \"Sending Data from uart1 to uart3\"\n",
    "uart1.write(message.encode())\n",
    "recieved = uart3.read(10000)\n",
    "recieved = recieved.decode()\n",
    "if recieved == message:\n",
    "    print(\"Success! Message Recieved: \" + recieved)\n",
    "else:\n",
    "    print(\"Failure: Message Recieved: \" + recieved)\n",
    "\n",
    "# Send a message from uart3 to uart1\n",
    "message = \"Sending Data from uart3 to uart1\"\n",
    "uart3.write(message.encode())\n",
    "recieved = uart1.read(10000)\n",
    "recieved = recieved.decode()\n",
    "if recieved == message:\n",
    "    print(\"Success! Message Recieved: \" + recieved)\n",
    "else:\n",
    "    print(\"Failure: Message Recieved: \" + recieved)\n",
    "\n",
    "\n",
    "uart1.close()\n",
    "uart3.close()"
   ]
  }
 ],
 "metadata": {
  "kernelspec": {
   "display_name": "Python 3",
   "language": "python",
   "name": "python3"
  },
  "language_info": {
   "codemirror_mode": {
    "name": "ipython",
    "version": 3
   },
   "file_extension": ".py",
   "mimetype": "text/x-python",
   "name": "python",
   "nbconvert_exporter": "python",
   "pygments_lexer": "ipython3",
   "version": "3.6.0"
  }
 },
 "nbformat": 4,
 "nbformat_minor": 2
}
