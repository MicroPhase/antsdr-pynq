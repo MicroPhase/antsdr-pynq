{
 "cells": [
  {
   "cell_type": "markdown",
   "metadata": {},
   "source": [
    "# PRIO Linux: GPIO Demo\n",
    "This demo illastrates how to use device tree overlays to interact with partially reconfigurable designs. \n"
   ]
  },
  {
   "cell_type": "markdown",
   "metadata": {},
   "source": [
    "### Step One: \n",
    "Download the static bitstream"
   ]
  },
  {
   "cell_type": "code",
   "execution_count": 1,
   "metadata": {},
   "outputs": [
    {
     "data": {
      "application/javascript": [
       "\n",
       "require(['notebook/js/codecell'], function(codecell) {\n",
       "  codecell.CodeCell.options_default.highlight_modes[\n",
       "      'magic_text/x-csrc'] = {'reg':[/^%%microblaze/]};\n",
       "  Jupyter.notebook.events.one('kernel_ready.Kernel', function(){\n",
       "      Jupyter.notebook.get_cells().map(function(cell){\n",
       "          if (cell.cell_type == 'code'){ cell.auto_highlight(); } }) ;\n",
       "  });\n",
       "});\n"
      ]
     },
     "metadata": {},
     "output_type": "display_data"
    }
   ],
   "source": [
    "from prio_linux import PrIoOverlay\n",
    "\n",
    "FULL_BITSTREAM_PATH = \"/usr/local/lib/python3.6/dist-packages/prio_linux/\"\n",
    "PARTIAL_BITSTREAM_PATH = \"/usr/local/lib/python3.6/dist-packages/prio_linux/partial/\"\n",
    "DTBO_PATH = \"/usr/local/lib/python3.6/dist-packages/prio_linux/dtbo/\"\n",
    "\n",
    "overlay = PrIoOverlay(FULL_BITSTREAM_PATH + \"prio_linux.bit\")"
   ]
  },
  {
   "cell_type": "markdown",
   "metadata": {},
   "source": [
    "### Step Two:\n",
    "Download the partial bitstreams and insert the dtbo files"
   ]
  },
  {
   "cell_type": "code",
   "execution_count": 2,
   "metadata": {},
   "outputs": [],
   "source": [
    "overlay.pr_download(\"pr_0\", PARTIAL_BITSTREAM_PATH + \"pr_0_gpio.bit\", DTBO_PATH + \"pr_0_gpio.dtbo\")"
   ]
  },
  {
   "cell_type": "markdown",
   "metadata": {},
   "source": [
    "### Step Three:\n",
    "\n",
    "Define a convenient wrapper class that wraps around Xilinx's GPIO wrapper class (reminds me of a certain Christopher Nolan movie, except instead of dreams, it's GPIO wrappers) and groups pins into a single GPIO object."
   ]
  },
  {
   "cell_type": "code",
   "execution_count": 3,
   "metadata": {},
   "outputs": [],
   "source": [
    "from pynq import GPIO  \n",
    "\n",
    "# returns the bit of the value at the position            \n",
    "def getBit(value, position):\n",
    "    return (value & (0x01 << position)) >> position\n",
    "\n",
    "# puts bit in value at postion\n",
    "def putBit(value, bit, position):\n",
    "    return (value | (int(bit) << position))\n",
    "\n",
    "    \n",
    "class BYU_GPIO:\n",
    "    \"\"\"Class to group GPIO pins together into a user-friendly interface.\n",
    "    Attributes\n",
    "    ----------\n",
    "    starting_index : int\n",
    "        The index of the first GPIO pin\n",
    "    num_of_pins: int\n",
    "        number of pins, starting from the gpio pin at the starting index, that you \n",
    "        would like to group together.\n",
    "    direction : int\n",
    "        Input/output direction of the GPIOs. the LSB corresponding to the first index.\n",
    "        0 signifies output, 1 siginifies input.\n",
    "    \n",
    "    \"\"\"\n",
    "    \n",
    "    ALL_INPUTS = 0xFFFF\n",
    "    ALL_OUTPUTS = 0x0000\n",
    "    \n",
    "    def __init__(self, name, direction):\n",
    "        name = \"/amba/\" + name\n",
    "        self.pins = []\n",
    "        for x in range(GPIO.get_gpio_npins(name)):\n",
    "            if (getBit(direction, x)):\n",
    "                direction_str = 'in'\n",
    "            else:\n",
    "                direction_str = 'out'\n",
    "            self.pins.append(GPIO(GPIO.get_gpio_pin(x, name), direction_str))\n",
    "            \n",
    "    def setDirection(self, direction):\n",
    "        for x in range(0, len(self.pins)):\n",
    "            if (getBit(direction, x)):\n",
    "                direction_str = 'in'\n",
    "            else:\n",
    "                direction_str = 'out'   \n",
    "            with open(self.pins[x]._impl.path + 'direction', 'w') as f:\n",
    "                f.write(direction_str)\n",
    "            self.pins[x]._impl.direction = direction_str\n",
    "            \n",
    "            \n",
    "    def getDirection(self):\n",
    "        direction = 0\n",
    "        for x in range(0, len(self.pins)):\n",
    "            if (self.pins[x].direction == \"in\"):\n",
    "                direction = putBit(direction, 1, x)\n",
    "        return direction  \n",
    "    \n",
    "    def write(self, value):\n",
    "        for x in range(0, len(self.pins)):\n",
    "            if(self.pins[x].direction == \"out\"):\n",
    "                self.pins[x].write(getBit(value, x))\n",
    "            else:\n",
    "                pass\n",
    "#                 print(\"WARNING (GPIO_PIN\" + str(self.pins[x].index) + \"): Cannot write GPIO input.\")\n",
    "    \n",
    "    def read(self):\n",
    "        value = 0\n",
    "        for x in range(0, len(self.pins)):\n",
    "            if(self.pins[x].direction == \"in\"):\n",
    "                value = putBit(value, self.pins[x].read(), x)\n",
    "            else:\n",
    "                pass\n",
    "#                 print(\"WARNING (GPIO_PIN\" + str(self.pins[x].index) + \"): Cannot read GPIO output.\")\n",
    "        return value\n",
    "    \n",
    "    def release(self):\n",
    "        for pin in(self.pins):\n",
    "            pin.release()"
   ]
  },
  {
   "cell_type": "markdown",
   "metadata": {},
   "source": [
    "### Step Four:\n",
    "\n",
    "Initialize the upper pins of **`PMOD0`** for the gpio hardware inside pr_region_0."
   ]
  },
  {
   "cell_type": "code",
   "execution_count": 4,
   "metadata": {},
   "outputs": [],
   "source": [
    "gpio0 = BYU_GPIO(\"pr_0_gpio\", BYU_GPIO.ALL_OUTPUTS)"
   ]
  },
  {
   "cell_type": "markdown",
   "metadata": {},
   "source": [
    "### Step Five:\n",
    "\n",
    "Run the demos!"
   ]
  },
  {
   "cell_type": "markdown",
   "metadata": {},
   "source": [
    "## Demo: Constant Output\n",
    "Outputs a constant pattern to the **`pr_0`** pins.\n",
    "\n",
    "** Hardware Setup:** For this demo, we suggest using at least one LED to check the output of every pin. These LEDs should be hooked up to the top row of **`PMOD 0`**. Every other pin should be high.\n",
    "\n",
    "<img src=\"images/gpio_hw_setup1.JPG\" align=\"center\"/>\n"
   ]
  },
  {
   "cell_type": "code",
   "execution_count": 5,
   "metadata": {},
   "outputs": [],
   "source": [
    "# Desired pattern of gpio output.\n",
    "LED_PATTERN = 0b1010\n",
    "\n",
    "#sets the value of all the pins in region 0 so everyother pin is high.\n",
    "gpio0.write(LED_PATTERN)"
   ]
  },
  {
   "cell_type": "markdown",
   "metadata": {},
   "source": [
    "## Demo: Binary Counter\n",
    "This demo will output the count, in binary, of a counter to the pins of **`pr_0`**.\n",
    "\n",
    "** Hardware Setup:** This Demo should use the same LED setup as the **`Constant Output`** Demo"
   ]
  },
  {
   "cell_type": "code",
   "execution_count": 6,
   "metadata": {},
   "outputs": [],
   "source": [
    "import time\n",
    "\n",
    "OUTPUTS_OFF = 0b0\n",
    "\n",
    "# Sets the direction of all pins in region 0 to  output.\n",
    "gpio0.setDirection(BYU_GPIO.ALL_OUTPUTS)\n",
    "\n",
    "# Counts from 0 to 15 in binary\n",
    "for output in range(0, 16):\n",
    "    \n",
    "    gpio0.write(output)\n",
    "    \n",
    "    #pauses for a half second\n",
    "    time.sleep(0.5)\n",
    "    \n",
    "#sets the value of all the pins in region 0 so every pin is low\n",
    "gpio0.write(OUTPUTS_OFF)"
   ]
  },
  {
   "cell_type": "markdown",
   "metadata": {},
   "source": [
    "## Demo: Blink Test\n",
    "The following demonstrates the Input and Output functionalities of GPIO interface by toggling the value on top-right pin on **`PMOD 1`**, and reading that value from the bottom-right pin on **`PMOD 1`**. This value will then be echoed to the top-right pin on **`PMOD 0`**.\n",
    "\n",
    "** Hardware Setup:** Keep the LEDs on the top row of **`PMOD 0`**. Connect a wire from the top-right pin on **`PMOD 1`** to the bottom-right pin on **`PMOD 1`**.\n",
    "\n",
    "\n",
    "\n",
    "<img src=\"images/gpio_hw_setup2.JPG\" align=\"center\"/>\n",
    "\n",
    "\n",
    "The LED connected to the top-right pin on PMOD 0 will indicate the current value being read from bottom-right pin on PMOD 1. This LED should toggle on and off."
   ]
  },
  {
   "cell_type": "markdown",
   "metadata": {},
   "source": [
    "### Setup additional reconfigurable regions\n",
    "Since this demo requires two additional PR regions, we must setup them up with the following code."
   ]
  },
  {
   "cell_type": "code",
   "execution_count": 7,
   "metadata": {},
   "outputs": [],
   "source": [
    "overlay.pr_download(\"pr_1\", PARTIAL_BITSTREAM_PATH + \"pr_1_gpio.bit\", DTBO_PATH + \"pr_1_gpio.dtbo\")\n",
    "gpio1 = BYU_GPIO(\"pr_1_gpio\", BYU_GPIO.ALL_OUTPUTS)\n",
    "\n",
    "overlay.pr_download(\"pr_3\", PARTIAL_BITSTREAM_PATH + \"pr_3_gpio.bit\", DTBO_PATH + \"pr_3_gpio.dtbo\")\n",
    "gpio3 = BYU_GPIO(\"pr_3_gpio\", BYU_GPIO.ALL_INPUTS)"
   ]
  },
  {
   "cell_type": "code",
   "execution_count": 8,
   "metadata": {},
   "outputs": [
    {
     "name": "stdout",
     "output_type": "stream",
     "text": [
      "off\n",
      "on\n",
      "off\n",
      "on\n",
      "off\n",
      "on\n",
      "off\n",
      "on\n",
      "off\n",
      "on\n",
      "off\n",
      "on\n",
      "off\n",
      "on\n",
      "off\n",
      "on\n",
      "off\n",
      "on\n",
      "off\n",
      "on\n"
     ]
    }
   ],
   "source": [
    "import time\n",
    "\n",
    "# Since only the right most pin is needed as an output\n",
    "# for the LEDs, that one is set to an output(0), while\n",
    "# the rest are set to inputs (1).\n",
    "gpio0.setDirection(0xe)\n",
    "\n",
    "led_value = 0\n",
    "\n",
    "for i in range(20):\n",
    "    time.sleep(0.5)\n",
    "    gpio1.write(led_value)\n",
    "    led_value = led_value ^ 0b10000001\n",
    "    \n",
    "    val = gpio3.read() & 0x01\n",
    "    \n",
    "    gpio0.write(val)\n",
    "    if val:\n",
    "        print('on')\n",
    "    else:\n",
    "        print('off')"
   ]
  },
  {
   "cell_type": "code",
   "execution_count": 9,
   "metadata": {},
   "outputs": [],
   "source": [
    "gpio0.release()\n",
    "gpio1.release()\n",
    "gpio3.release()"
   ]
  }
 ],
 "metadata": {
  "kernelspec": {
   "display_name": "Python 3",
   "language": "python",
   "name": "python3"
  },
  "language_info": {
   "codemirror_mode": {
    "name": "ipython",
    "version": 3
   },
   "file_extension": ".py",
   "mimetype": "text/x-python",
   "name": "python",
   "nbconvert_exporter": "python",
   "pygments_lexer": "ipython3",
   "version": "3.6.0"
  }
 },
 "nbformat": 4,
 "nbformat_minor": 2
}
